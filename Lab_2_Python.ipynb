{
  "nbformat": 4,
  "nbformat_minor": 0,
  "metadata": {
    "colab": {
      "provenance": [],
      "authorship_tag": "ABX9TyN+KGBf4hPpD+5b88kWAayI",
      "include_colab_link": true
    },
    "kernelspec": {
      "name": "python3",
      "display_name": "Python 3"
    },
    "language_info": {
      "name": "python"
    }
  },
  "cells": [
    {
      "cell_type": "markdown",
      "metadata": {
        "id": "view-in-github",
        "colab_type": "text"
      },
      "source": [
        "<a href=\"https://colab.research.google.com/github/irfanghapar/Python-Programming/blob/main/Lab_2_Python.ipynb\" target=\"_parent\"><img src=\"https://colab.research.google.com/assets/colab-badge.svg\" alt=\"Open In Colab\"/></a>"
      ]
    },
    {
      "cell_type": "code",
      "execution_count": null,
      "metadata": {
        "colab": {
          "base_uri": "https://localhost:8080/"
        },
        "id": "7r2uWq5du1iV",
        "outputId": "8e464f04-f2db-43e3-9580-6f13e3c604b1"
      },
      "outputs": [
        {
          "output_type": "stream",
          "name": "stdout",
          "text": [
            "48271\n",
            "182605794\n",
            "1291394886\n",
            "1914720637\n",
            "2078669041\n"
          ]
        }
      ],
      "source": [
        "x = 1\n",
        "\n",
        "for _ in range(5):\n",
        "   x = x * 48271 % 2147483647\n",
        "   print(x)\n"
      ]
    },
    {
      "cell_type": "code",
      "source": [
        "\n",
        "subjectNumber = int(input(\"Please enter number of subject:\" ))\n",
        "totalMarks = 0;\n",
        "for x in range(subjectNumber):\n",
        "  subjectName = str(input(f\"Please enter your subject name for subject {x + 1}: \" ))\n",
        "  subjectMarks = float(input(f\"Please enter your mark for {subjectName} subject: \" ))\n",
        "  if 0 <= subjectMarks <= 100:\n",
        "    print(\"You marks have been successfully saved!\")\n",
        "    totalMarks += subjectMarks\n",
        "  else:\n",
        "    print(\"Please enter marks correctly.\")\n",
        "\n",
        "averageMarks = totalMarks / subjectNumber\n",
        "print(f\"Average Marks: {averageMarks}\");\n"
      ],
      "metadata": {
        "colab": {
          "base_uri": "https://localhost:8080/"
        },
        "id": "VFELdY28wuO9",
        "outputId": "513e4995-9290-4092-9978-62e9bf7b87a7"
      },
      "execution_count": 26,
      "outputs": [
        {
          "output_type": "stream",
          "name": "stdout",
          "text": [
            "Please enter number of subject:3\n",
            "Please enter your subject name for subject 1: Java\n",
            "Please enter your mark for Java subject: 85\n",
            "You marks have been successfully saved!\n",
            "Please enter your subject name for subject 2: Javascript\n",
            "Please enter your mark for Javascript subject: 77\n",
            "You marks have been successfully saved!\n",
            "Please enter your subject name for subject 3: Python\n",
            "Please enter your mark for Python subject: 99\n",
            "You marks have been successfully saved!\n",
            "Average Marks: 87.0\n"
          ]
        }
      ]
    },
    {
      "cell_type": "code",
      "source": [],
      "metadata": {
        "id": "Wp1dvT0-Jk5H"
      },
      "execution_count": null,
      "outputs": []
    }
  ]
}