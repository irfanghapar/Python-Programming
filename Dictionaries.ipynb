{
  "nbformat": 4,
  "nbformat_minor": 0,
  "metadata": {
    "colab": {
      "provenance": [],
      "authorship_tag": "ABX9TyMbCmtfGxWc4uK97eFxWh+/",
      "include_colab_link": true
    },
    "kernelspec": {
      "name": "python3",
      "display_name": "Python 3"
    },
    "language_info": {
      "name": "python"
    }
  },
  "cells": [
    {
      "cell_type": "markdown",
      "metadata": {
        "id": "view-in-github",
        "colab_type": "text"
      },
      "source": [
        "<a href=\"https://colab.research.google.com/github/irfanghapar/Python-Programming/blob/main/Dictionaries.ipynb\" target=\"_parent\"><img src=\"https://colab.research.google.com/assets/colab-badge.svg\" alt=\"Open In Colab\"/></a>"
      ]
    },
    {
      "cell_type": "markdown",
      "source": [
        "Access/change value dictionary"
      ],
      "metadata": {
        "id": "X2zPOsk7mhhq"
      }
    },
    {
      "cell_type": "code",
      "source": [
        "d = {0:10, 1:20}\n",
        "d[1] = 2018\n",
        "print(d)"
      ],
      "metadata": {
        "colab": {
          "base_uri": "https://localhost:8080/"
        },
        "id": "aH6h89h1mhVJ",
        "outputId": "61de766a-c87f-48cd-9d15-deadc20eeee0"
      },
      "execution_count": 7,
      "outputs": [
        {
          "output_type": "stream",
          "name": "stdout",
          "text": [
            "{0: 10, 1: 2018}\n"
          ]
        }
      ]
    },
    {
      "cell_type": "markdown",
      "source": [
        "Adding value/key to dictionary"
      ],
      "metadata": {
        "id": "AC5UbbZ7mSs7"
      }
    },
    {
      "cell_type": "code",
      "execution_count": 8,
      "metadata": {
        "colab": {
          "base_uri": "https://localhost:8080/"
        },
        "id": "Q7JhTyguJzOu",
        "outputId": "daead398-892e-452a-a27f-627f76838902"
      },
      "outputs": [
        {
          "output_type": "stream",
          "name": "stdout",
          "text": [
            "{0: 10, 1: 20, 2: 30}\n",
            "10\n",
            "0\n",
            "20\n",
            "1\n",
            "30\n",
            "2\n"
          ]
        }
      ],
      "source": [
        "d = {0:10, 1:20}\n",
        "d.update({2:30})\n",
        "print(d)\n",
        "\n",
        "for x in d:\n",
        "  print(d[x])\n",
        "  print(x)"
      ]
    },
    {
      "cell_type": "markdown",
      "source": [
        "Loop through values and keys"
      ],
      "metadata": {
        "id": "af0nOdesmRJO"
      }
    },
    {
      "cell_type": "code",
      "source": [
        "d = {0:10, 1:20}\n",
        "d.update({2:30})\n",
        "print(d)\n",
        "\n",
        "for x, y in d.items():\n",
        "  print(x,y)"
      ],
      "metadata": {
        "colab": {
          "base_uri": "https://localhost:8080/"
        },
        "id": "bpHby6ddl0W1",
        "outputId": "e5480049-8225-4a23-8248-9d619afdbb9d"
      },
      "execution_count": 9,
      "outputs": [
        {
          "output_type": "stream",
          "name": "stdout",
          "text": [
            "{0: 10, 1: 20, 2: 30}\n",
            "0 10\n",
            "1 20\n",
            "2 30\n"
          ]
        }
      ]
    },
    {
      "cell_type": "markdown",
      "source": [
        "Check model if it exists\n",
        "Check length"
      ],
      "metadata": {
        "id": "bJRZ9CgvnLtl"
      }
    },
    {
      "cell_type": "code",
      "source": [
        "d = {0:10, 1:20}\n",
        "d.update({2:30})\n",
        "\n",
        "if 0 in d:\n",
        "  print(d[1])\n",
        "\n",
        "print(len(d))"
      ],
      "metadata": {
        "colab": {
          "base_uri": "https://localhost:8080/"
        },
        "id": "KbYkrtz6nHgp",
        "outputId": "6d42096d-4244-42c0-c257-11ffb1e24739"
      },
      "execution_count": 13,
      "outputs": [
        {
          "output_type": "stream",
          "name": "stdout",
          "text": [
            "20\n",
            "3\n"
          ]
        }
      ]
    },
    {
      "cell_type": "markdown",
      "source": [
        "Nested Dictionaries and assigning dictionaries\n",
        "\n"
      ],
      "metadata": {
        "id": "0FcWaw2j4SyU"
      }
    },
    {
      "cell_type": "code",
      "source": [
        "family = {\n",
        "    \"child1\" : {\n",
        "    \"name\" : \"Emil\",\n",
        "    \"year\" : 2004\n",
        "},\n",
        "}\n",
        "\n",
        "child2 = {\n",
        "    \"name\" : \"Tobias\"\n",
        "}\n",
        "\n",
        "child3 = {\n",
        "    \"name\" : \"Linus\"\n",
        "}\n",
        "\n",
        "myfamily = {\n",
        "    \"child1\" : family,\n",
        "    \"child2\" : child2,\n",
        "    \"child3\" : child3\n",
        "}\n",
        "print(family)\n",
        "print(myfamily)"
      ],
      "metadata": {
        "colab": {
          "base_uri": "https://localhost:8080/"
        },
        "id": "ZYAhT8dvnYKB",
        "outputId": "9e7e0600-3ac1-4fb9-fd27-2c9130330af3"
      },
      "execution_count": 16,
      "outputs": [
        {
          "output_type": "stream",
          "name": "stdout",
          "text": [
            "{'child1': {'name': 'Emil', 'year': 2004}}\n",
            "{'child1': {'child1': {'name': 'Emil', 'year': 2004}}, 'child2': {'name': 'Tobias'}, 'child3': {'name': 'Linus'}}\n"
          ]
        }
      ]
    },
    {
      "cell_type": "markdown",
      "source": [
        "Iterate and remove using loops"
      ],
      "metadata": {
        "id": "xXZB-CQV6Q2x"
      }
    },
    {
      "cell_type": "code",
      "source": [
        "d = {'Red' : 1, 'Green' : 2, 'Blue' : 2}\n",
        "for x, y in d.items():\n",
        "  print(x, 'corresponds to', y)  # print(x, 'corresponds to', d[x])\n",
        "\n",
        "if 'Red' in d:\n",
        "  del d['Red']\n",
        "print(d)"
      ],
      "metadata": {
        "colab": {
          "base_uri": "https://localhost:8080/"
        },
        "id": "krDvtTqm4quO",
        "outputId": "753b22dc-fa78-4a5b-da3f-1a043fe36c5a"
      },
      "execution_count": 21,
      "outputs": [
        {
          "output_type": "stream",
          "name": "stdout",
          "text": [
            "Red corresponds to 1\n",
            "Green corresponds to 2\n",
            "Blue corresponds to 2\n",
            "{'Green': 2, 'Blue': 2}\n"
          ]
        }
      ]
    },
    {
      "cell_type": "markdown",
      "source": [
        "Sort Python Dict based on letter in front"
      ],
      "metadata": {
        "id": "wleiR_UK7EfD"
      }
    },
    {
      "cell_type": "code",
      "source": [
        "d = {'Red' : '#00000', 'Green' : '#40000', 'Blue' : '#20000'}\n",
        "\n",
        "for x in sorted(d):\n",
        "  print(x, \":\", d[x])"
      ],
      "metadata": {
        "colab": {
          "base_uri": "https://localhost:8080/"
        },
        "id": "h8OQjPrx6k3D",
        "outputId": "8d9ce027-6bdd-4644-b88d-4b43009c2ee4"
      },
      "execution_count": 23,
      "outputs": [
        {
          "output_type": "stream",
          "name": "stdout",
          "text": [
            "Blue : #20000\n",
            "Green : #40000\n",
            "Red : #00000\n"
          ]
        }
      ]
    },
    {
      "cell_type": "markdown",
      "source": [
        "Find Max using get() and key"
      ],
      "metadata": {
        "id": "TX4xIKpG8czI"
      }
    },
    {
      "cell_type": "code",
      "source": [
        "x = {1:2, 2:3, 3:4}\n",
        "max(x, key=lambda i: x[i]) #lambda is an anonymous function\n",
        "max(x, key=x.get)"
      ],
      "metadata": {
        "colab": {
          "base_uri": "https://localhost:8080/"
        },
        "id": "q9NZgg-q7aRm",
        "outputId": "1e3d443e-f816-43b1-9dcb-d507c142d1f6"
      },
      "execution_count": 24,
      "outputs": [
        {
          "output_type": "execute_result",
          "data": {
            "text/plain": [
              "3"
            ]
          },
          "metadata": {},
          "execution_count": 24
        }
      ]
    },
    {
      "cell_type": "markdown",
      "source": [
        "Find maximum and minimum value in dictionaries"
      ],
      "metadata": {
        "id": "XuOS3YaW9yZs"
      }
    },
    {
      "cell_type": "code",
      "source": [
        "d = {'x':2, 'y':3, 'z':4}\n",
        "\n",
        "findmax = max(d.keys(), key=lambda i: d[i])\n",
        "\n",
        "print(findmax)\n"
      ],
      "metadata": {
        "colab": {
          "base_uri": "https://localhost:8080/"
        },
        "id": "h2MVHVer8l59",
        "outputId": "9a4fc09a-54c5-4b60-a1bc-caccc6ef320b"
      },
      "execution_count": 28,
      "outputs": [
        {
          "output_type": "stream",
          "name": "stdout",
          "text": [
            "z\n"
          ]
        }
      ]
    },
    {
      "cell_type": "markdown",
      "source": [
        "Concatenate Dictionaries"
      ],
      "metadata": {
        "id": "BJNv2dbA__a2"
      }
    },
    {
      "cell_type": "code",
      "source": [
        "d = {'x': 2}\n",
        "e = {'y': 3}\n",
        "f = {'z': 4}\n",
        "g = {}\n",
        "h = {}\n",
        "\n",
        "for x in (d , e , f):\n",
        "  g.update(x)\n",
        "  h.update(e)\n",
        "\n",
        "print(g, h)"
      ],
      "metadata": {
        "colab": {
          "base_uri": "https://localhost:8080/"
        },
        "id": "_zAGHReR-ODH",
        "outputId": "cdb874a6-4d88-482c-8c42-f10d1a0b3c60"
      },
      "execution_count": 31,
      "outputs": [
        {
          "output_type": "stream",
          "name": "stdout",
          "text": [
            "{'x': 2, 'y': 3, 'z': 4} {'y': 3}\n"
          ]
        }
      ]
    },
    {
      "cell_type": "code",
      "source": [
        "d = {'a':2, 'b':3, 'z':4}\n",
        "h = 0\n",
        "for x, y in d.items():\n",
        "  h = h + y #sum(d.values())\n",
        "  print(sum(d.values()))\n",
        "  print(h)"
      ],
      "metadata": {
        "colab": {
          "base_uri": "https://localhost:8080/"
        },
        "id": "Cpolbbd_AVtZ",
        "outputId": "915514c6-eefe-41b5-a87c-441ca3304f2f"
      },
      "execution_count": 44,
      "outputs": [
        {
          "output_type": "stream",
          "name": "stdout",
          "text": [
            "9\n",
            "2\n",
            "9\n",
            "5\n",
            "9\n",
            "9\n"
          ]
        }
      ]
    },
    {
      "cell_type": "code",
      "source": [
        "d = {}\n",
        "\n",
        "for x in range(1, 6):\n",
        "  d[x] = x*x\n",
        "\n",
        "print(d)"
      ],
      "metadata": {
        "colab": {
          "base_uri": "https://localhost:8080/"
        },
        "id": "Iq3v4T9VAzx4",
        "outputId": "2d409f3e-d5ed-49d7-bad5-085e351981a8"
      },
      "execution_count": 46,
      "outputs": [
        {
          "output_type": "stream",
          "name": "stdout",
          "text": [
            "{1: 1, 2: 4, 3: 9, 4: 16, 5: 25}\n"
          ]
        }
      ]
    },
    {
      "cell_type": "code",
      "source": [],
      "metadata": {
        "id": "TonsS3ZOCw-5"
      },
      "execution_count": null,
      "outputs": []
    }
  ]
}