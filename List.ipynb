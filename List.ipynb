{
  "nbformat": 4,
  "nbformat_minor": 0,
  "metadata": {
    "colab": {
      "provenance": [],
      "authorship_tag": "ABX9TyNWoRV1ZY6bgmAzmFzAGvDL",
      "include_colab_link": true
    },
    "kernelspec": {
      "name": "python3",
      "display_name": "Python 3"
    },
    "language_info": {
      "name": "python"
    }
  },
  "cells": [
    {
      "cell_type": "markdown",
      "metadata": {
        "id": "view-in-github",
        "colab_type": "text"
      },
      "source": [
        "<a href=\"https://colab.research.google.com/github/irfanghapar/Python-Programming/blob/main/List.ipynb\" target=\"_parent\"><img src=\"https://colab.research.google.com/assets/colab-badge.svg\" alt=\"Open In Colab\"/></a>"
      ]
    },
    {
      "cell_type": "code",
      "execution_count": 12,
      "metadata": {
        "colab": {
          "base_uri": "https://localhost:8080/"
        },
        "id": "grpMDLVlVeXC",
        "outputId": "ad35389e-1f7a-4821-888c-5038c42c88d1"
      },
      "outputs": [
        {
          "output_type": "stream",
          "name": "stdout",
          "text": [
            "11\n",
            "[1, 2, 4, 5, 6, 7, 8, 9, 10, 11]\n"
          ]
        }
      ],
      "source": [
        "numbers = list(range(1 , 11))\n",
        "\n",
        "numbers.append(11)\n",
        "\n",
        "print(len(numbers))\n",
        "\n",
        "numbers.remove(3)\n",
        "\n",
        "print(numbers)"
      ]
    },
    {
      "cell_type": "code",
      "source": [
        "fruits = [\"apple\", \"banana\", \"cherry\", \"date\", \"elderberry\"]\n",
        "\n",
        "print(fruits[0],fruits[1],fruits[2])\n",
        "print(fruits[3],fruits[4])\n",
        "print(fruits[1:4])"
      ],
      "metadata": {
        "colab": {
          "base_uri": "https://localhost:8080/"
        },
        "id": "emy1fIs8dp0p",
        "outputId": "b4889ca1-93a1-4c1d-880c-cce2cef7d7f3"
      },
      "execution_count": 8,
      "outputs": [
        {
          "output_type": "stream",
          "name": "stdout",
          "text": [
            "apple banana cherry\n",
            "date elderberry\n",
            "['banana', 'cherry', 'date']\n"
          ]
        }
      ]
    },
    {
      "cell_type": "code",
      "source": [
        "squares = list(range(1,11))\n",
        "for x in range(len(squares)):\n",
        "  squares[x] = squares[x] **2\n",
        "\n",
        "print(squares)\n",
        "\n",
        "# squares = [x**2 for x in range(1, 11)]\n"
      ],
      "metadata": {
        "colab": {
          "base_uri": "https://localhost:8080/"
        },
        "id": "txreHSBEpbED",
        "outputId": "928de62c-574a-468b-a64a-85be448e071a"
      },
      "execution_count": 24,
      "outputs": [
        {
          "output_type": "stream",
          "name": "stdout",
          "text": [
            "[1, 4, 9, 16, 25, 36, 49, 64, 81, 100]\n"
          ]
        }
      ]
    },
    {
      "cell_type": "code",
      "source": [
        "squares = list(range(1,11))\n",
        "for x in range(len(squares)):\n",
        "  squares[x] = squares[x] **2\n",
        "\n",
        "even_squares = [x for x in squares if x % 3]\n",
        "\n",
        "print(squares)\n",
        "print (even_squares)"
      ],
      "metadata": {
        "colab": {
          "base_uri": "https://localhost:8080/"
        },
        "id": "FBJ9t6cuq-GE",
        "outputId": "11c16dcd-14bc-4ab4-d482-b186cae960b5"
      },
      "execution_count": 28,
      "outputs": [
        {
          "output_type": "stream",
          "name": "stdout",
          "text": [
            "[1, 4, 16, 25, 49, 64, 100]\n"
          ]
        }
      ]
    },
    {
      "cell_type": "code",
      "source": [
        "list1 = [3, 7, 1, 9]\n",
        "list2 = [2, 6, 8, 4]\n",
        "\n",
        "list1.sort()\n",
        "list2.sort()\n",
        "\n",
        "print(list1)\n",
        "\n",
        "sorted_list = list1 + list2\n",
        "sorted_list.sort()\n",
        "print(sorted_list)"
      ],
      "metadata": {
        "colab": {
          "base_uri": "https://localhost:8080/"
        },
        "id": "JAW99r-RF2ac",
        "outputId": "6d347768-e704-4a79-ae4d-ec3ec80d2bb2"
      },
      "execution_count": 37,
      "outputs": [
        {
          "output_type": "stream",
          "name": "stdout",
          "text": [
            "[1, 3, 7, 9]\n",
            "[1, 2, 3, 4, 6, 7, 8, 9]\n"
          ]
        }
      ]
    },
    {
      "cell_type": "code",
      "source": [
        "new = dict()\n",
        "print(new)"
      ],
      "metadata": {
        "colab": {
          "base_uri": "https://localhost:8080/"
        },
        "id": "8qDiyRi0IKQ0",
        "outputId": "62d30a88-7030-40fd-d3d1-91d3e32e8b89"
      },
      "execution_count": 38,
      "outputs": [
        {
          "output_type": "stream",
          "name": "stdout",
          "text": [
            "{}\n"
          ]
        }
      ]
    },
    {
      "cell_type": "code",
      "source": [
        "dic = {1: 'Aniq', 'Aqil':2.0}\n",
        "dic.get(2)"
      ],
      "metadata": {
        "id": "SbMgQ3q9KGaI"
      },
      "execution_count": 45,
      "outputs": []
    },
    {
      "cell_type": "code",
      "source": [
        "dic = {'pdy1':'DICTIONARY'}\n",
        "dic1 = {'pdy2':'STRING'}\n",
        "dic.update(dic1)\n",
        "print(dic)\n"
      ],
      "metadata": {
        "colab": {
          "base_uri": "https://localhost:8080/"
        },
        "id": "lAPLCCFeKtM2",
        "outputId": "f914fae6-c138-4d5e-b283-b61bef79f65b"
      },
      "execution_count": 49,
      "outputs": [
        {
          "output_type": "stream",
          "name": "stdout",
          "text": [
            "{'pdy1': 'DICTIONARY', 'pdy2': 'STRING'}\n"
          ]
        }
      ]
    },
    {
      "cell_type": "code",
      "source": [
        "dic = {'pdy1': 'DICTIONARY'}\n",
        "dic.update({'pdy2': 'STRING1', 'pdy3': 'STRING2'})\n",
        "\n",
        "print(dic)\n"
      ],
      "metadata": {
        "colab": {
          "base_uri": "https://localhost:8080/"
        },
        "id": "07pucRd3MJ9j",
        "outputId": "dbe54628-9e75-4d76-98cf-b840f95439c9"
      },
      "execution_count": 50,
      "outputs": [
        {
          "output_type": "stream",
          "name": "stdout",
          "text": [
            "{'pdy1': 'DICTIONARY', 'pdy2': 'STRING1', 'pdy3': 'STRING2'}\n"
          ]
        }
      ]
    },
    {
      "cell_type": "code",
      "source": [
        "# Original list\n",
        "my_list = ['pdy1', 'pdy2', 'pdy3']\n",
        "\n",
        "# Move 'pdy2' to the front\n",
        "new_list = ['pdy2'] + [x for x in my_list if x != 'pdy2']\n",
        "\n",
        "print(new_list)\n"
      ],
      "metadata": {
        "colab": {
          "base_uri": "https://localhost:8080/"
        },
        "id": "mbIHyDFnNMt-",
        "outputId": "6430c7b6-757a-434a-b36a-d456c6dc1e99"
      },
      "execution_count": 2,
      "outputs": [
        {
          "output_type": "stream",
          "name": "stdout",
          "text": [
            "['pdy2', 'pdy1', 'pdy3']\n"
          ]
        }
      ]
    },
    {
      "cell_type": "code",
      "source": [
        "dic = {'pdy1': 'DICTIONARY', 'pdy2': 'STRING1', 'pdy3': 'STRING2'}\n",
        "if(dic.value = 'DICTIONARY') {\n",
        "    print\n",
        "}"
      ],
      "metadata": {
        "colab": {
          "base_uri": "https://localhost:8080/"
        },
        "id": "dvmSECaENdgl",
        "outputId": "440f2a5e-62f1-478e-bf7d-ddd1c565c451"
      },
      "execution_count": 61,
      "outputs": [
        {
          "output_type": "stream",
          "name": "stdout",
          "text": [
            "pdy1\n",
            "pdy2\n",
            "pdy3\n"
          ]
        }
      ]
    },
    {
      "cell_type": "code",
      "source": [
        "dic = {'pdy1': 'DICTIONARY', 'pdy2': 'STRING1', 'pdy3': 'STRING2'}\n",
        "# dic.pop('pdy1')\n",
        "print(dic)"
      ],
      "metadata": {
        "colab": {
          "base_uri": "https://localhost:8080/"
        },
        "id": "WCDXodfzRQhk",
        "outputId": "9f5dfcb7-3226-4234-f78f-f74e4c9487c6"
      },
      "execution_count": 1,
      "outputs": [
        {
          "output_type": "stream",
          "name": "stdout",
          "text": [
            "{'pdy1': 'DICTIONARY', 'pdy2': 'STRING1', 'pdy3': 'STRING2'}\n"
          ]
        }
      ]
    },
    {
      "cell_type": "code",
      "source": [
        "for key, value in dic.items():\n",
        "    # Check if the value matches 'DICTIONARY'\n",
        "    if value == 'DICTIONARY':\n",
        "        # If it does, delete the corresponding key\n",
        "        del dic[key]\n",
        "        # Exit the loop to ensure only one value is deleted\n",
        "        break\n",
        "print(dic)"
      ],
      "metadata": {
        "colab": {
          "base_uri": "https://localhost:8080/"
        },
        "id": "3tfqRJxrSPOs",
        "outputId": "af071a0d-b84b-4eeb-bbf4-7657aff65651"
      },
      "execution_count": 77,
      "outputs": [
        {
          "output_type": "stream",
          "name": "stdout",
          "text": [
            "{'pdy2': 'STRING1', 'pdy3': 'STRING2'}\n"
          ]
        }
      ]
    },
    {
      "cell_type": "code",
      "source": [
        "# Create a list named mixed_list containing integers, floats, and strings\n",
        "mixed_list = [1, 2.5, \"Hello\", 4, 5.6, \"World\", 7]\n",
        "\n",
        "# Write code to remove all integers from the list\n",
        "mixed_list = [x for x in mixed_list if not isinstance(x, int)]\n",
        "\n",
        "# Print the modified list\n",
        "print(\"Modified list after removing integers:\", mixed_list)\n",
        "\n",
        "# Write code to append the word \"Python\" to the end of the list\n",
        "mixed_list.append(\"Python\")\n",
        "\n",
        "# Print the final list\n",
        "print(\"Final list after appending 'Python':\", mixed_list)\n"
      ],
      "metadata": {
        "id": "fvg1bDlbV-C1"
      },
      "execution_count": null,
      "outputs": []
    }
  ]
}