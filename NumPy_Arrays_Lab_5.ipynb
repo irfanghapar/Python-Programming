{
  "nbformat": 4,
  "nbformat_minor": 0,
  "metadata": {
    "colab": {
      "provenance": [],
      "authorship_tag": "ABX9TyNusk5qYASg/CU7HQ7JP5yD",
      "include_colab_link": true
    },
    "kernelspec": {
      "name": "python3",
      "display_name": "Python 3"
    },
    "language_info": {
      "name": "python"
    }
  },
  "cells": [
    {
      "cell_type": "markdown",
      "metadata": {
        "id": "view-in-github",
        "colab_type": "text"
      },
      "source": [
        "<a href=\"https://colab.research.google.com/github/irfanghapar/Python-Programming/blob/main/NumPy_Arrays_Lab_5.ipynb\" target=\"_parent\"><img src=\"https://colab.research.google.com/assets/colab-badge.svg\" alt=\"Open In Colab\"/></a>"
      ]
    },
    {
      "cell_type": "code",
      "execution_count": 33,
      "metadata": {
        "colab": {
          "base_uri": "https://localhost:8080/"
        },
        "id": "TF80R1wDDaYa",
        "outputId": "02941727-bc6c-41f4-af3a-f7b458b4664c"
      },
      "outputs": [
        {
          "output_type": "execute_result",
          "data": {
            "text/plain": [
              "array([[ 80842, 333008, 202553, 140037,  81969],\n",
              "       [ 63857,  42105, 261540, 481981, 176739],\n",
              "       [489984, 326386, 110795, 394863,  25024],\n",
              "       [ 38317,  49982, 408830, 485118,  16119],\n",
              "       [407675, 231729, 265455, 109413, 103399],\n",
              "       [174677, 343356, 301717, 224120, 401101],\n",
              "       [140473, 254634, 112262,  25063, 108262],\n",
              "       [375059, 406983, 208947, 115641, 296685],\n",
              "       [444899, 129585, 171318, 313094, 425041],\n",
              "       [188411, 335140, 141681,  59641, 211420],\n",
              "       [287650,   8973, 477425, 382803, 465168],\n",
              "       [  3975,  32213, 160603, 275485, 388234],\n",
              "       [246225,  56174, 244097,   9350, 496966],\n",
              "       [225516, 273338,  73335, 283013, 212813],\n",
              "       [ 38175, 282399, 318413, 337639, 379802],\n",
              "       [198049, 101115, 419547, 260219, 325793],\n",
              "       [148593, 425024, 348570, 117968, 107007],\n",
              "       [ 52547, 180346, 178760, 305186, 262153],\n",
              "       [ 11835, 449971, 494184, 472031, 353049],\n",
              "       [476442,  35455, 191553, 384154,  29917]])"
            ]
          },
          "metadata": {},
          "execution_count": 33
        }
      ],
      "source": [
        "# Exercise 1\n",
        "\n",
        "import numpy as np\n",
        "np.random.seed(21)\n",
        "random_integers = np.random.randint(1, high = 500000, size = (20, 5))\n",
        "random_integers"
      ]
    },
    {
      "cell_type": "code",
      "source": [
        "# Exercise 2\n",
        "\n",
        "second_column = random_integers[:, 1]\n",
        "average_second_column = np.mean(second_column)\n",
        "\n",
        "print(f\"Average second column: {average_second_column: .2f}\")"
      ],
      "metadata": {
        "colab": {
          "base_uri": "https://localhost:8080/"
        },
        "id": "CNgaOhUuO8bN",
        "outputId": "cf29bc95-fae3-470b-e82f-5f5f4aaae308"
      },
      "execution_count": 34,
      "outputs": [
        {
          "output_type": "stream",
          "name": "stdout",
          "text": [
            "Average second column:  214895.80\n"
          ]
        }
      ]
    },
    {
      "cell_type": "code",
      "source": [
        "# Exercise 3\n",
        "\n",
        "five_rows = random_integers[0:4, 2:3]\n",
        "average_five_rows = np.mean(five_rows)\n",
        "\n",
        "print(f\"Average five rows: {average_five_rows}\")"
      ],
      "metadata": {
        "id": "6GXtoWxPQlwg",
        "outputId": "dc2975bd-2d31-49f6-d1dc-645046cf1065",
        "colab": {
          "base_uri": "https://localhost:8080/"
        }
      },
      "execution_count": 35,
      "outputs": [
        {
          "output_type": "stream",
          "name": "stdout",
          "text": [
            "Average five rows: 245929.5\n"
          ]
        }
      ]
    },
    {
      "cell_type": "code",
      "source": [
        "# Exercise 4\n",
        "\n",
        "import numpy as np\n",
        "first_matrix = np.array([[1, 2, 3], [4, 5, 6]])\n",
        "print(first_matrix)\n",
        "\n",
        "second_matrix = np.array([1,2,3])\n",
        "print(second_matrix)\n",
        "\n",
        "first_matrix + second_matrix"
      ],
      "metadata": {
        "id": "9JkhLygP_TsO",
        "outputId": "32d5dbb5-eb4f-4d76-d587-1a96bb64429b",
        "colab": {
          "base_uri": "https://localhost:8080/"
        }
      },
      "execution_count": 36,
      "outputs": [
        {
          "output_type": "stream",
          "name": "stdout",
          "text": [
            "[[1 2 3]\n",
            " [4 5 6]]\n",
            "[1 2 3]\n"
          ]
        },
        {
          "output_type": "execute_result",
          "data": {
            "text/plain": [
              "array([[2, 4, 6],\n",
              "       [5, 7, 9]])"
            ]
          },
          "metadata": {},
          "execution_count": 36
        }
      ]
    },
    {
      "cell_type": "code",
      "source": [
        "# Exercise 5\n",
        "\n",
        "my_vector = np.array([1, 2, 3, 4, 5, 6])\n",
        "selection = my_vector % 2 == 0\n",
        "my_vector[selection]"
      ],
      "metadata": {
        "id": "IVnWWSfLAF0m",
        "outputId": "a3f79d0c-7909-43c2-f87d-54198dd77f3f",
        "colab": {
          "base_uri": "https://localhost:8080/"
        }
      },
      "execution_count": 37,
      "outputs": [
        {
          "output_type": "execute_result",
          "data": {
            "text/plain": [
              "array([2, 4, 6])"
            ]
          },
          "metadata": {},
          "execution_count": 37
        }
      ]
    },
    {
      "cell_type": "markdown",
      "source": [
        "Basic Slicing"
      ],
      "metadata": {
        "id": "3eZ1CnrmB7pO"
      }
    },
    {
      "cell_type": "code",
      "source": [
        "# Exercise 6\n",
        "\n",
        "import numpy as np\n",
        "my_array = np.array([1, 2, 3, 4])\n",
        "print(my_array)\n",
        "\n",
        "my_slice = my_array[1:3]\n",
        "print(my_slice)\n",
        "\n",
        "my_slice[0] = -1\n",
        "print(my_slice)\n",
        "\n",
        "print(my_array)\n",
        "print(my_array[1])"
      ],
      "metadata": {
        "id": "DzG0aFOKSJ2g",
        "outputId": "c77cd891-3d9e-4ba8-f8e6-744d7b998389",
        "colab": {
          "base_uri": "https://localhost:8080/"
        }
      },
      "execution_count": 39,
      "outputs": [
        {
          "output_type": "stream",
          "name": "stdout",
          "text": [
            "[1 2 3 4]\n",
            "[2 3]\n",
            "[-1  3]\n",
            "[ 1 -1  3  4]\n",
            "-1\n"
          ]
        }
      ]
    },
    {
      "cell_type": "markdown",
      "source": [
        "One of the nuances of can can easily lead to problems is that when one\n",
        "takes a slice of an array, one does not actually get a new array; rather, one is\n",
        "given a “view” on the original array, meaning they are sharing the same\n",
        "underlying data."
      ],
      "metadata": {
        "id": "vsYsfHtVU0Jh"
      }
    },
    {
      "cell_type": "code",
      "source": [
        "x = [1, 2, 3]\n",
        "y = x[0:2]\n",
        "y[0] = \"a change\"\n",
        "y\n",
        "x"
      ],
      "metadata": {
        "id": "xacwpFfiTIqU",
        "outputId": "36efccd0-6a47-4574-b4b4-614215267980",
        "colab": {
          "base_uri": "https://localhost:8080/"
        }
      },
      "execution_count": 28,
      "outputs": [
        {
          "output_type": "execute_result",
          "data": {
            "text/plain": [
              "[1, 2, 3]"
            ]
          },
          "metadata": {},
          "execution_count": 28
        }
      ]
    },
    {
      "cell_type": "markdown",
      "source": [
        "Basic indexing. Why?\n",
        "\n",
        "In contrast, fancy indexing involves using arrays (or lists) of indices to select elements or subarrays from another array, which is not what's happening in this case."
      ],
      "metadata": {
        "id": "Qmfhh5QwWPgD"
      }
    },
    {
      "cell_type": "code",
      "source": [
        "my_array = np.array([1, 2, 3])\n",
        "my_slice = my_array[1:3]\n",
        "my_slice[0] = -1\n",
        "my_array"
      ],
      "metadata": {
        "id": "Ktc3sdeGUaxA",
        "outputId": "f1b5b992-9a7a-4c9a-ac7e-31591b2a90b1",
        "colab": {
          "base_uri": "https://localhost:8080/"
        }
      },
      "execution_count": 40,
      "outputs": [
        {
          "output_type": "execute_result",
          "data": {
            "text/plain": [
              "array([ 1, -1,  3])"
            ]
          },
          "metadata": {},
          "execution_count": 40
        }
      ]
    },
    {
      "cell_type": "markdown",
      "source": [
        "Using fancy indexing = non contiguos selection, using an array of indices"
      ],
      "metadata": {
        "id": "hxTY8gBSV_RH"
      }
    },
    {
      "cell_type": "code",
      "source": [
        "my_array = np.array([1, 2, 3])\n",
        "my_slice = my_array[[1,2]] #fancy indexing\n",
        "my_slice[0] = -1\n",
        "my_array\n"
      ],
      "metadata": {
        "id": "kIl6C0fVVZfW",
        "outputId": "ff146cf2-85ae-4960-e167-84e0499941ce",
        "colab": {
          "base_uri": "https://localhost:8080/"
        }
      },
      "execution_count": 41,
      "outputs": [
        {
          "output_type": "execute_result",
          "data": {
            "text/plain": [
              "array([1, 2, 3])"
            ]
          },
          "metadata": {},
          "execution_count": 41
        }
      ]
    },
    {
      "cell_type": "markdown",
      "source": [
        "modify a slice without using contiguous selection or not using an array of indices, you get a copy, so changes\n",
        "won’t propagate:"
      ],
      "metadata": {
        "id": "a9YCwuGZWsuX"
      }
    },
    {
      "cell_type": "code",
      "source": [
        "my_array = np.array([1, 2, 3])\n",
        "my_slice = my_array[1:3]\n",
        "my_slice = my_slice * 2\n",
        "print(my_slice)\n",
        "print(my_array)"
      ],
      "metadata": {
        "id": "TuIbZ1XPWp1O",
        "outputId": "575219ac-4b62-4182-ee2c-81003b5c15cc",
        "colab": {
          "base_uri": "https://localhost:8080/"
        }
      },
      "execution_count": 42,
      "outputs": [
        {
          "output_type": "stream",
          "name": "stdout",
          "text": [
            "[4 6]\n",
            "[1 2 3]\n"
          ]
        }
      ]
    },
    {
      "cell_type": "markdown",
      "source": [
        "A full-array manipulation and preserve your view, always use\n",
        "square brackets on the left side of the assignment operator (=)"
      ],
      "metadata": {
        "id": "q5d4BD9KW_7Z"
      }
    },
    {
      "cell_type": "code",
      "source": [
        "my_array = np.array([1, 2, 3])\n",
        "my_slice = my_array[1:3]\n",
        "my_slice[:] = my_slice * 2\n",
        "my_slice\n",
        "my_array"
      ],
      "metadata": {
        "id": "GEHmh3c9VyKk",
        "outputId": "d5574cb5-42a0-4490-add2-507cdf72fdfd",
        "colab": {
          "base_uri": "https://localhost:8080/"
        }
      },
      "execution_count": 43,
      "outputs": [
        {
          "output_type": "execute_result",
          "data": {
            "text/plain": [
              "array([1, 4, 6])"
            ]
          },
          "metadata": {},
          "execution_count": 43
        }
      ]
    },
    {
      "cell_type": "markdown",
      "source": [
        "Basic Indexing, here we want to show change in original value does affect the view"
      ],
      "metadata": {
        "id": "6hB2eO6C675l"
      }
    },
    {
      "cell_type": "code",
      "source": [
        "# Exercise 7\n",
        "\n",
        "my_array = np.array([[1, 2, 3], [4, 5, 6]])\n",
        "print(my_array)\n",
        "my_slice = my_array[:, 1:3]\n",
        "print(my_slice)"
      ],
      "metadata": {
        "id": "GxIFpT_gVynG",
        "outputId": "e5d53ca5-c0b0-40b1-f5ee-0290a5420c88",
        "colab": {
          "base_uri": "https://localhost:8080/"
        }
      },
      "execution_count": 44,
      "outputs": [
        {
          "output_type": "stream",
          "name": "stdout",
          "text": [
            "[[1 2 3]\n",
            " [4 5 6]]\n",
            "[[2 3]\n",
            " [5 6]]\n"
          ]
        }
      ]
    },
    {
      "cell_type": "code",
      "source": [
        "# Exercise 8\n",
        "\n",
        "my_array = my_array * 2\n",
        "print(my_array)\n",
        "print(my_slice)"
      ],
      "metadata": {
        "id": "_iYjvT2g2DBr",
        "outputId": "50ac1456-14da-4acc-bd78-a82850203931",
        "colab": {
          "base_uri": "https://localhost:8080/"
        }
      },
      "execution_count": 45,
      "outputs": [
        {
          "output_type": "stream",
          "name": "stdout",
          "text": [
            "[[ 2  4  6]\n",
            " [ 8 10 12]]\n",
            "[[2 3]\n",
            " [5 6]]\n"
          ]
        }
      ]
    },
    {
      "cell_type": "markdown",
      "source": [
        "Copy method will not affect the underlying data"
      ],
      "metadata": {
        "id": "rkt9u8Pe4D3-"
      }
    },
    {
      "cell_type": "code",
      "source": [
        "#Exercise 11\n",
        "\n",
        "my_array = np.array([[1, 2, 3], [4, 5, 6]])\n",
        "print(my_array)\n",
        "\n",
        "my_slice = my_array[:, 1:3].copy()\n",
        "print(my_slice)\n",
        "\n",
        "my_array[:, :] = my_array * 2\n",
        "print(my_slice)\n",
        "print(my_array)"
      ],
      "metadata": {
        "id": "ZTktPW0Y21iK",
        "outputId": "de39b8ce-4261-4c26-b357-cef5c6be952d",
        "colab": {
          "base_uri": "https://localhost:8080/"
        }
      },
      "execution_count": 46,
      "outputs": [
        {
          "output_type": "stream",
          "name": "stdout",
          "text": [
            "[[1 2 3]\n",
            " [4 5 6]]\n",
            "[[2 3]\n",
            " [5 6]]\n",
            "[[2 3]\n",
            " [5 6]]\n",
            "[[ 2  4  6]\n",
            " [ 8 10 12]]\n"
          ]
        }
      ]
    },
    {
      "cell_type": "markdown",
      "source": [
        "test if one array is a view\n",
        "of another with the code. It does work sometimes"
      ],
      "metadata": {
        "id": "tLgYsGIL8810"
      }
    },
    {
      "cell_type": "code",
      "source": [
        "my_array = np.array([1, 2, 3])\n",
        "my_slice = my_array[1:3]\n",
        "my_slice.base is my_array"
      ],
      "metadata": {
        "id": "8duJGBVJ3ZT4",
        "outputId": "7cb10a81-7895-4cf8-8b58-636793002b3f",
        "colab": {
          "base_uri": "https://localhost:8080/"
        }
      },
      "execution_count": 22,
      "outputs": [
        {
          "output_type": "execute_result",
          "data": {
            "text/plain": [
              "True"
            ]
          },
          "metadata": {},
          "execution_count": 22
        }
      ]
    },
    {
      "cell_type": "markdown",
      "source": [
        "But not always\n",
        "\n",
        "NOTE: since my_array now has only two elements ([2, 3]), slicing from index 1 to 3 effectively selects only the last element, which is 3"
      ],
      "metadata": {
        "id": "zJh7LA1w8_Kx"
      }
    },
    {
      "cell_type": "code",
      "source": [
        "my_array = np.array([1, 2, 3])\n",
        "my_array = my_array[1:4]\n",
        "print(my_array)\n",
        "my_slice = my_array[1:3]\n",
        "print(my_slice.base is my_array)\n",
        "print(my_slice)\n",
        "print(my_array)"
      ],
      "metadata": {
        "id": "jKCXbOTl8-y6",
        "outputId": "f7ddac7f-e906-47db-80d0-39e0e9512b17",
        "colab": {
          "base_uri": "https://localhost:8080/"
        }
      },
      "execution_count": 27,
      "outputs": [
        {
          "output_type": "stream",
          "name": "stdout",
          "text": [
            "[2 3]\n",
            "False\n",
            "[3]\n",
            "[2 3]\n"
          ]
        }
      ]
    },
    {
      "cell_type": "code",
      "source": [
        "my_slice[0] = -1\n",
        "my_array"
      ],
      "metadata": {
        "id": "jRnnqlxJ81xZ",
        "outputId": "d0ea0b3b-3c91-41eb-e8b0-ef82e9adc341",
        "colab": {
          "base_uri": "https://localhost:8080/"
        }
      },
      "execution_count": 28,
      "outputs": [
        {
          "output_type": "execute_result",
          "data": {
            "text/plain": [
              "array([ 2, -1])"
            ]
          },
          "metadata": {},
          "execution_count": 28
        }
      ]
    },
    {
      "cell_type": "code",
      "source": [
        "my_slice.base is my_array.base"
      ],
      "metadata": {
        "id": "FLNOiGPy92J4",
        "outputId": "5b58a78e-0f9b-435f-9eb8-bd4e3fb2987a",
        "colab": {
          "base_uri": "https://localhost:8080/"
        }
      },
      "execution_count": 29,
      "outputs": [
        {
          "output_type": "execute_result",
          "data": {
            "text/plain": [
              "True"
            ]
          },
          "metadata": {},
          "execution_count": 29
        }
      ]
    },
    {
      "cell_type": "code",
      "source": [],
      "metadata": {
        "id": "gcefcsHi-wGA"
      },
      "execution_count": null,
      "outputs": []
    }
  ]
}